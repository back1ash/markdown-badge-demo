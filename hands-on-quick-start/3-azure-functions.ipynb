{
 "cells": [
  {
   "cell_type": "markdown",
   "metadata": {},
   "source": [
    "간단한 Azure Functions를 만들어봅니다.\n"
   ]
  },
  {
   "cell_type": "markdown",
   "metadata": {},
   "source": [
    "```\n",
    "### 아래 커맨드를 터미널에서 실행하세요.\n",
    "\n",
    "cd example_functions && func init --worker-runtime python --model V2\n",
    "\n",
    "func new --name hello --template \"HTTP trigger\" --authlevel \"anonymous\"\n",
    "# 2번 ANONYMOUS를 선택합니다.\n",
    "\n",
    "func start\n",
    "\n",
    "```"
   ]
  },
  {
   "cell_type": "markdown",
   "metadata": {},
   "source": [
    "이와 같이 뜨게 됩니다.\n",
    "hello의 API URL을 클릭합니다\n",
    "<img width=\"785\" alt=\"image\" src=\"https://github.com/roharon/markdown-badge-demo/assets/4939738/8255395e-299c-46b1-9504-02316d1122a5\">\n",
    "\n",
    "`<~~~~>-7071.app.github.dev/` 로 이동이 된 것을 볼 수 있습니다.\n",
    "\n",
    "`<~~~~>-7071.app.github.dev/api/hello` 로 `/api/hello` 를 붙여서 요청해봅니다.\n",
    "\n",
    "`<~~~~>-7071.app.github.dev/api/hello?name=여러분` 과 같이 다시 요청하여 결과를 확인해봅니다."
   ]
  },
  {
   "cell_type": "markdown",
   "metadata": {},
   "source": [
    "## 핸즈온 실습 코드 수행하기"
   ]
  },
  {
   "cell_type": "markdown",
   "metadata": {},
   "source": [
    "`/workspaces/markdown-badge-demo` 경로에 들어갑니다.\n",
    "func start 를 실행합니다."
   ]
  },
  {
   "cell_type": "code",
   "execution_count": null,
   "metadata": {},
   "outputs": [],
   "source": [
    "!pwd\n",
    "!cd .. && func start\n",
    "\n",
    "# get_contents 함수에 대해 호출해봅니다."
   ]
  }
 ],
 "metadata": {
  "kernelspec": {
   "display_name": "Python 3",
   "language": "python",
   "name": "python3"
  },
  "language_info": {
   "codemirror_mode": {
    "name": "ipython",
    "version": 3
   },
   "file_extension": ".py",
   "mimetype": "text/x-python",
   "name": "python",
   "nbconvert_exporter": "python",
   "pygments_lexer": "ipython3",
   "version": "3.11.6"
  }
 },
 "nbformat": 4,
 "nbformat_minor": 2
}
