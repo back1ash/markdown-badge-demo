{
 "cells": [
  {
   "cell_type": "markdown",
   "metadata": {},
   "source": [
    "GitHub API를 사용해봅니다"
   ]
  },
  {
   "cell_type": "markdown",
   "metadata": {},
   "source": [
    "https://docs.github.com/ko/free-pro-team@latest/rest/repos/repos?apiVersion=2022-11-28#list-repositories-for-a-user"
   ]
  },
  {
   "cell_type": "code",
   "execution_count": null,
   "metadata": {},
   "outputs": [],
   "source": [
    "import requests\n",
    "\n",
    "\n",
    "def fetch_user_repos(name):\n",
    "    url = \"https://api.github.com/users/{}/repos?sort=pushed&direction=desc&type=owner\".format(name)\n",
    "\n",
    "    response = requests.get(url)\n",
    "    return response.json()"
   ]
  },
  {
   "cell_type": "code",
   "execution_count": null,
   "metadata": {},
   "outputs": [],
   "source": [
    "username = \"roharon\"\n",
    "result = fetch_user_repos(username)\n",
    "\n",
    "print(result)"
   ]
  },
  {
   "cell_type": "code",
   "execution_count": null,
   "metadata": {},
   "outputs": [],
   "source": [
    "print(result[1])\n",
    "repo = result[1]"
   ]
  },
  {
   "cell_type": "code",
   "execution_count": null,
   "metadata": {},
   "outputs": [],
   "source": [
    "print(\"Repository name: {}, URL: {}, language: {}\".format(repo['full_name'], repo['clone_url'], repo[\"language\"]))"
   ]
  },
  {
   "cell_type": "code",
   "execution_count": null,
   "metadata": {},
   "outputs": [],
   "source": [
    "# GitHub API Rate Limit 확인\n",
    "# https://docs.github.com/ko/rest/guides/best-practices-for-using-the-rest-api?apiVersion=2022-11-28\n",
    "\n",
    "url = \"https://api.github.com/users/{}/repos?sort=pushed&direction=desc&type=owner\".format(\n",
    "    username\n",
    ")\n",
    "\n",
    "response = requests.get(url)"
   ]
  },
  {
   "cell_type": "code",
   "execution_count": null,
   "metadata": {},
   "outputs": [],
   "source": [
    "print(response.headers[\"X-RateLimit-Limit\"])\n",
    "print(response.headers[\"X-RateLimit-Remaining\"])"
   ]
  },
  {
   "cell_type": "markdown",
   "metadata": {},
   "source": [
    "이제 GitHub Apps를 이용해봅니다. \n",
    "https://github.com/settings/apps"
   ]
  },
  {
   "cell_type": "markdown",
   "metadata": {},
   "source": []
  }
 ],
 "metadata": {
  "kernelspec": {
   "display_name": "Python 3",
   "language": "python",
   "name": "python3"
  },
  "language_info": {
   "codemirror_mode": {
    "name": "ipython",
    "version": 3
   },
   "file_extension": ".py",
   "mimetype": "text/x-python",
   "name": "python",
   "nbconvert_exporter": "python",
   "pygments_lexer": "ipython3",
   "version": "3.11.4"
  }
 },
 "nbformat": 4,
 "nbformat_minor": 2
}
